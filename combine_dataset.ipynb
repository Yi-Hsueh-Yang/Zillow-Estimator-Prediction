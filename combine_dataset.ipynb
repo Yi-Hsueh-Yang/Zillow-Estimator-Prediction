{
 "cells": [
  {
   "cell_type": "code",
   "execution_count": 1,
   "metadata": {},
   "outputs": [],
   "source": [
    "import pandas as pd\n",
    "import numpy as np\n",
    "import matplotlib.pyplot as plt\n",
    "import seaborn as sns\n",
    "import chardet"
   ]
  },
  {
   "cell_type": "code",
   "execution_count": 5,
   "metadata": {},
   "outputs": [
    {
     "name": "stderr",
     "output_type": "stream",
     "text": [
      "/var/folders/zs/j91wn79j45lccf78212k1pp80000gn/T/ipykernel_6055/1649885690.py:4: DtypeWarning: Columns (22,32,34,49,55) have mixed types. Specify dtype option on import or set low_memory=False.\n",
      "  zillow_16 = pd.read_csv(\"data/properties_2016.csv\", encoding=result['encoding'])\n"
     ]
    },
    {
     "name": "stdout",
     "output_type": "stream",
     "text": [
      "(2985217, 58)\n"
     ]
    }
   ],
   "source": [
    "with open('data/properties_2016.csv', 'rb') as f:\n",
    "    result = chardet.detect(f.read())\n",
    "\n",
    "zillow_16 = pd.read_csv(\"data/properties_2016.csv\", encoding=result['encoding'])\n",
    "print(zillow_16.shape)"
   ]
  },
  {
   "cell_type": "code",
   "execution_count": 6,
   "metadata": {},
   "outputs": [
    {
     "name": "stdout",
     "output_type": "stream",
     "text": [
      "(90275, 3)\n"
     ]
    }
   ],
   "source": [
    "with open('data/train_2016.csv', 'rb') as f:\n",
    "    result = chardet.detect(f.read())\n",
    "\n",
    "train_16 = pd.read_csv(\"data/train_2016.csv\", encoding=result['encoding'])\n",
    "print(train_16.shape)"
   ]
  },
  {
   "cell_type": "code",
   "execution_count": 7,
   "metadata": {},
   "outputs": [
    {
     "data": {
      "text/plain": [
       "(90275, 60)"
      ]
     },
     "execution_count": 7,
     "metadata": {},
     "output_type": "execute_result"
    }
   ],
   "source": [
    "merged = pd.merge(zillow_16, train_16, on='parcelid')\n",
    "merged.shape"
   ]
  },
  {
   "cell_type": "code",
   "execution_count": 13,
   "metadata": {},
   "outputs": [
    {
     "name": "stderr",
     "output_type": "stream",
     "text": [
      "/var/folders/zs/j91wn79j45lccf78212k1pp80000gn/T/ipykernel_6055/4163747226.py:4: DtypeWarning: Columns (49) have mixed types. Specify dtype option on import or set low_memory=False.\n",
      "  zillow_17 = pd.read_csv(\"data/properties_2017.csv\", encoding=result['encoding'])\n"
     ]
    },
    {
     "name": "stdout",
     "output_type": "stream",
     "text": [
      "(2985217, 58)\n"
     ]
    }
   ],
   "source": [
    "with open('data/properties_2017.csv', 'rb') as f:\n",
    "    result = chardet.detect(f.read())\n",
    "\n",
    "zillow_17 = pd.read_csv(\"data/properties_2017.csv\", encoding=result['encoding'])\n",
    "print(zillow_17.shape)"
   ]
  },
  {
   "cell_type": "code",
   "execution_count": 14,
   "metadata": {},
   "outputs": [
    {
     "name": "stdout",
     "output_type": "stream",
     "text": [
      "(77613, 3)\n"
     ]
    }
   ],
   "source": [
    "with open('data/train_2017.csv', 'rb') as f:\n",
    "    result = chardet.detect(f.read())\n",
    "\n",
    "train_17 = pd.read_csv(\"data/train_2017.csv\", encoding=result['encoding'])\n",
    "print(train_17.shape)"
   ]
  },
  {
   "cell_type": "code",
   "execution_count": 15,
   "metadata": {},
   "outputs": [
    {
     "data": {
      "text/plain": [
       "(77613, 60)"
      ]
     },
     "execution_count": 15,
     "metadata": {},
     "output_type": "execute_result"
    }
   ],
   "source": [
    "merged2 = pd.merge(zillow_17, train_17, on='parcelid')\n",
    "merged2.shape"
   ]
  },
  {
   "cell_type": "code",
   "execution_count": 19,
   "metadata": {},
   "outputs": [
    {
     "data": {
      "text/plain": [
       "(167888, 60)"
      ]
     },
     "execution_count": 19,
     "metadata": {},
     "output_type": "execute_result"
    }
   ],
   "source": [
    "merged_data = pd.concat([merged, merged2])\n",
    "merged_data.shape"
   ]
  },
  {
   "cell_type": "code",
   "execution_count": 20,
   "metadata": {},
   "outputs": [],
   "source": [
    "merged_data.to_csv('merged_data.csv')"
   ]
  },
  {
   "cell_type": "code",
   "execution_count": null,
   "metadata": {},
   "outputs": [],
   "source": []
  }
 ],
 "metadata": {
  "kernelspec": {
   "display_name": "Python 3.9.16 ('base')",
   "language": "python",
   "name": "python3"
  },
  "language_info": {
   "codemirror_mode": {
    "name": "ipython",
    "version": 3
   },
   "file_extension": ".py",
   "mimetype": "text/x-python",
   "name": "python",
   "nbconvert_exporter": "python",
   "pygments_lexer": "ipython3",
   "version": "3.9.16"
  },
  "orig_nbformat": 4,
  "vscode": {
   "interpreter": {
    "hash": "573dfe784a97caf9dff8293e7ed0f9bd3e6f3d5163ce14a787b0340057cdb20e"
   }
  }
 },
 "nbformat": 4,
 "nbformat_minor": 2
}
